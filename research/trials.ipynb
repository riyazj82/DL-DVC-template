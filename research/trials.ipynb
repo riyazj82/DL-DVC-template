{
 "cells": [
  {
   "cell_type": "code",
   "execution_count": null,
   "metadata": {},
   "outputs": [],
   "source": []
  }
 ],
 "metadata": {
  "kernelspec": {
   "display_name": "Python 3",
   "language": "python",
   "name": "python3"
  },
  "language_info": {
   "name": "python",
   "version": "3.8.16 (default, Jan 17 2023, 22:25:28) [MSC v.1916 64 bit (AMD64)]"
  },
  "orig_nbformat": 4,
  "vscode": {
   "interpreter": {
    "hash": "887a4f9a29a7b2ed5423107d45bf264a964364e696272dd77bc216902cf74480"
   }
  }
 },
 "nbformat": 4,
 "nbformat_minor": 2
}
